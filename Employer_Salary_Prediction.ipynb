{
  "nbformat": 4,
  "nbformat_minor": 0,
  "metadata": {
    "colab": {
      "provenance": [],
      "authorship_tag": "ABX9TyPiCRr/9xbTNepohsmow1im",
      "include_colab_link": true
    },
    "kernelspec": {
      "name": "python3",
      "display_name": "Python 3"
    },
    "language_info": {
      "name": "python"
    }
  },
  "cells": [
    {
      "cell_type": "markdown",
      "metadata": {
        "id": "view-in-github",
        "colab_type": "text"
      },
      "source": [
        "<a href=\"https://colab.research.google.com/github/Arun-3reddy/Employer-salary-prediction-/blob/main/Employer_Salary_Prediction.ipynb\" target=\"_parent\"><img src=\"https://colab.research.google.com/assets/colab-badge.svg\" alt=\"Open In Colab\"/></a>"
      ]
    },
    {
      "cell_type": "code",
      "execution_count": 38,
      "metadata": {
        "id": "XXrbPJyQAOEl"
      },
      "outputs": [],
      "source": [
        "import pandas as pd"
      ]
    },
    {
      "cell_type": "code",
      "source": [
        "pd=pd.read_csv(\"/content/archive (2).zip\")"
      ],
      "metadata": {
        "id": "wP9gSVFyFq2i"
      },
      "execution_count": 39,
      "outputs": []
    },
    {
      "cell_type": "code",
      "source": [
        "pd"
      ],
      "metadata": {
        "colab": {
          "base_uri": "https://localhost:8080/",
          "height": 686
        },
        "id": "8k9_QXSxF4W6",
        "outputId": "19c3519b-a4e7-4fe2-e52a-604042304681"
      },
      "execution_count": 40,
      "outputs": [
        {
          "output_type": "execute_result",
          "data": {
            "text/plain": [
              "       work_year experience_level employment_type  \\\n",
              "0           2021               MI              FT   \n",
              "1           2021               MI              FT   \n",
              "2           2020               MI              FT   \n",
              "3           2021               MI              FT   \n",
              "4           2022               SE              FT   \n",
              "...          ...              ...             ...   \n",
              "14833       2022               MI              FT   \n",
              "14834       2020               EX              FT   \n",
              "14835       2021               EN              FT   \n",
              "14836       2022               EN              FT   \n",
              "14837       2020               EN              PT   \n",
              "\n",
              "                             job_title    salary salary_currency  \\\n",
              "0                       Data Scientist  30400000             CLP   \n",
              "1                      BI Data Analyst  11000000             HUF   \n",
              "2                       Data Scientist  11000000             HUF   \n",
              "3                          ML Engineer   8500000             JPY   \n",
              "4       Lead Machine Learning Engineer   7500000             INR   \n",
              "...                                ...       ...             ...   \n",
              "14833  Business Intelligence Developer     15000             USD   \n",
              "14834               Staff Data Analyst     15000             USD   \n",
              "14835       Machine Learning Developer     15000             USD   \n",
              "14836                     Data Analyst     15000             USD   \n",
              "14837                      ML Engineer     14000             EUR   \n",
              "\n",
              "       salary_in_usd employee_residence  remote_ratio company_location  \\\n",
              "0              40038                 CL           100               CL   \n",
              "1              36259                 HU            50               US   \n",
              "2              35735                 HU            50               HU   \n",
              "3              77364                 JP            50               JP   \n",
              "4              95386                 IN            50               IN   \n",
              "...              ...                ...           ...              ...   \n",
              "14833          15000                 GH           100               GH   \n",
              "14834          15000                 NG             0               CA   \n",
              "14835          15000                 TH           100               TH   \n",
              "14836          15000                 ID             0               ID   \n",
              "14837          15966                 DE           100               DE   \n",
              "\n",
              "      company_size  \n",
              "0                L  \n",
              "1                L  \n",
              "2                L  \n",
              "3                S  \n",
              "4                L  \n",
              "...            ...  \n",
              "14833            M  \n",
              "14834            M  \n",
              "14835            L  \n",
              "14836            L  \n",
              "14837            S  \n",
              "\n",
              "[14838 rows x 11 columns]"
            ],
            "text/html": [
              "\n",
              "  <div id=\"df-5e9446c6-205e-4c3f-93ca-505a102d3faa\" class=\"colab-df-container\">\n",
              "    <div>\n",
              "<style scoped>\n",
              "    .dataframe tbody tr th:only-of-type {\n",
              "        vertical-align: middle;\n",
              "    }\n",
              "\n",
              "    .dataframe tbody tr th {\n",
              "        vertical-align: top;\n",
              "    }\n",
              "\n",
              "    .dataframe thead th {\n",
              "        text-align: right;\n",
              "    }\n",
              "</style>\n",
              "<table border=\"1\" class=\"dataframe\">\n",
              "  <thead>\n",
              "    <tr style=\"text-align: right;\">\n",
              "      <th></th>\n",
              "      <th>work_year</th>\n",
              "      <th>experience_level</th>\n",
              "      <th>employment_type</th>\n",
              "      <th>job_title</th>\n",
              "      <th>salary</th>\n",
              "      <th>salary_currency</th>\n",
              "      <th>salary_in_usd</th>\n",
              "      <th>employee_residence</th>\n",
              "      <th>remote_ratio</th>\n",
              "      <th>company_location</th>\n",
              "      <th>company_size</th>\n",
              "    </tr>\n",
              "  </thead>\n",
              "  <tbody>\n",
              "    <tr>\n",
              "      <th>0</th>\n",
              "      <td>2021</td>\n",
              "      <td>MI</td>\n",
              "      <td>FT</td>\n",
              "      <td>Data Scientist</td>\n",
              "      <td>30400000</td>\n",
              "      <td>CLP</td>\n",
              "      <td>40038</td>\n",
              "      <td>CL</td>\n",
              "      <td>100</td>\n",
              "      <td>CL</td>\n",
              "      <td>L</td>\n",
              "    </tr>\n",
              "    <tr>\n",
              "      <th>1</th>\n",
              "      <td>2021</td>\n",
              "      <td>MI</td>\n",
              "      <td>FT</td>\n",
              "      <td>BI Data Analyst</td>\n",
              "      <td>11000000</td>\n",
              "      <td>HUF</td>\n",
              "      <td>36259</td>\n",
              "      <td>HU</td>\n",
              "      <td>50</td>\n",
              "      <td>US</td>\n",
              "      <td>L</td>\n",
              "    </tr>\n",
              "    <tr>\n",
              "      <th>2</th>\n",
              "      <td>2020</td>\n",
              "      <td>MI</td>\n",
              "      <td>FT</td>\n",
              "      <td>Data Scientist</td>\n",
              "      <td>11000000</td>\n",
              "      <td>HUF</td>\n",
              "      <td>35735</td>\n",
              "      <td>HU</td>\n",
              "      <td>50</td>\n",
              "      <td>HU</td>\n",
              "      <td>L</td>\n",
              "    </tr>\n",
              "    <tr>\n",
              "      <th>3</th>\n",
              "      <td>2021</td>\n",
              "      <td>MI</td>\n",
              "      <td>FT</td>\n",
              "      <td>ML Engineer</td>\n",
              "      <td>8500000</td>\n",
              "      <td>JPY</td>\n",
              "      <td>77364</td>\n",
              "      <td>JP</td>\n",
              "      <td>50</td>\n",
              "      <td>JP</td>\n",
              "      <td>S</td>\n",
              "    </tr>\n",
              "    <tr>\n",
              "      <th>4</th>\n",
              "      <td>2022</td>\n",
              "      <td>SE</td>\n",
              "      <td>FT</td>\n",
              "      <td>Lead Machine Learning Engineer</td>\n",
              "      <td>7500000</td>\n",
              "      <td>INR</td>\n",
              "      <td>95386</td>\n",
              "      <td>IN</td>\n",
              "      <td>50</td>\n",
              "      <td>IN</td>\n",
              "      <td>L</td>\n",
              "    </tr>\n",
              "    <tr>\n",
              "      <th>...</th>\n",
              "      <td>...</td>\n",
              "      <td>...</td>\n",
              "      <td>...</td>\n",
              "      <td>...</td>\n",
              "      <td>...</td>\n",
              "      <td>...</td>\n",
              "      <td>...</td>\n",
              "      <td>...</td>\n",
              "      <td>...</td>\n",
              "      <td>...</td>\n",
              "      <td>...</td>\n",
              "    </tr>\n",
              "    <tr>\n",
              "      <th>14833</th>\n",
              "      <td>2022</td>\n",
              "      <td>MI</td>\n",
              "      <td>FT</td>\n",
              "      <td>Business Intelligence Developer</td>\n",
              "      <td>15000</td>\n",
              "      <td>USD</td>\n",
              "      <td>15000</td>\n",
              "      <td>GH</td>\n",
              "      <td>100</td>\n",
              "      <td>GH</td>\n",
              "      <td>M</td>\n",
              "    </tr>\n",
              "    <tr>\n",
              "      <th>14834</th>\n",
              "      <td>2020</td>\n",
              "      <td>EX</td>\n",
              "      <td>FT</td>\n",
              "      <td>Staff Data Analyst</td>\n",
              "      <td>15000</td>\n",
              "      <td>USD</td>\n",
              "      <td>15000</td>\n",
              "      <td>NG</td>\n",
              "      <td>0</td>\n",
              "      <td>CA</td>\n",
              "      <td>M</td>\n",
              "    </tr>\n",
              "    <tr>\n",
              "      <th>14835</th>\n",
              "      <td>2021</td>\n",
              "      <td>EN</td>\n",
              "      <td>FT</td>\n",
              "      <td>Machine Learning Developer</td>\n",
              "      <td>15000</td>\n",
              "      <td>USD</td>\n",
              "      <td>15000</td>\n",
              "      <td>TH</td>\n",
              "      <td>100</td>\n",
              "      <td>TH</td>\n",
              "      <td>L</td>\n",
              "    </tr>\n",
              "    <tr>\n",
              "      <th>14836</th>\n",
              "      <td>2022</td>\n",
              "      <td>EN</td>\n",
              "      <td>FT</td>\n",
              "      <td>Data Analyst</td>\n",
              "      <td>15000</td>\n",
              "      <td>USD</td>\n",
              "      <td>15000</td>\n",
              "      <td>ID</td>\n",
              "      <td>0</td>\n",
              "      <td>ID</td>\n",
              "      <td>L</td>\n",
              "    </tr>\n",
              "    <tr>\n",
              "      <th>14837</th>\n",
              "      <td>2020</td>\n",
              "      <td>EN</td>\n",
              "      <td>PT</td>\n",
              "      <td>ML Engineer</td>\n",
              "      <td>14000</td>\n",
              "      <td>EUR</td>\n",
              "      <td>15966</td>\n",
              "      <td>DE</td>\n",
              "      <td>100</td>\n",
              "      <td>DE</td>\n",
              "      <td>S</td>\n",
              "    </tr>\n",
              "  </tbody>\n",
              "</table>\n",
              "<p>14838 rows × 11 columns</p>\n",
              "</div>\n",
              "    <div class=\"colab-df-buttons\">\n",
              "\n",
              "  <div class=\"colab-df-container\">\n",
              "    <button class=\"colab-df-convert\" onclick=\"convertToInteractive('df-5e9446c6-205e-4c3f-93ca-505a102d3faa')\"\n",
              "            title=\"Convert this dataframe to an interactive table.\"\n",
              "            style=\"display:none;\">\n",
              "\n",
              "  <svg xmlns=\"http://www.w3.org/2000/svg\" height=\"24px\" viewBox=\"0 -960 960 960\">\n",
              "    <path d=\"M120-120v-720h720v720H120Zm60-500h600v-160H180v160Zm220 220h160v-160H400v160Zm0 220h160v-160H400v160ZM180-400h160v-160H180v160Zm440 0h160v-160H620v160ZM180-180h160v-160H180v160Zm440 0h160v-160H620v160Z\"/>\n",
              "  </svg>\n",
              "    </button>\n",
              "\n",
              "  <style>\n",
              "    .colab-df-container {\n",
              "      display:flex;\n",
              "      gap: 12px;\n",
              "    }\n",
              "\n",
              "    .colab-df-convert {\n",
              "      background-color: #E8F0FE;\n",
              "      border: none;\n",
              "      border-radius: 50%;\n",
              "      cursor: pointer;\n",
              "      display: none;\n",
              "      fill: #1967D2;\n",
              "      height: 32px;\n",
              "      padding: 0 0 0 0;\n",
              "      width: 32px;\n",
              "    }\n",
              "\n",
              "    .colab-df-convert:hover {\n",
              "      background-color: #E2EBFA;\n",
              "      box-shadow: 0px 1px 2px rgba(60, 64, 67, 0.3), 0px 1px 3px 1px rgba(60, 64, 67, 0.15);\n",
              "      fill: #174EA6;\n",
              "    }\n",
              "\n",
              "    .colab-df-buttons div {\n",
              "      margin-bottom: 4px;\n",
              "    }\n",
              "\n",
              "    [theme=dark] .colab-df-convert {\n",
              "      background-color: #3B4455;\n",
              "      fill: #D2E3FC;\n",
              "    }\n",
              "\n",
              "    [theme=dark] .colab-df-convert:hover {\n",
              "      background-color: #434B5C;\n",
              "      box-shadow: 0px 1px 3px 1px rgba(0, 0, 0, 0.15);\n",
              "      filter: drop-shadow(0px 1px 2px rgba(0, 0, 0, 0.3));\n",
              "      fill: #FFFFFF;\n",
              "    }\n",
              "  </style>\n",
              "\n",
              "    <script>\n",
              "      const buttonEl =\n",
              "        document.querySelector('#df-5e9446c6-205e-4c3f-93ca-505a102d3faa button.colab-df-convert');\n",
              "      buttonEl.style.display =\n",
              "        google.colab.kernel.accessAllowed ? 'block' : 'none';\n",
              "\n",
              "      async function convertToInteractive(key) {\n",
              "        const element = document.querySelector('#df-5e9446c6-205e-4c3f-93ca-505a102d3faa');\n",
              "        const dataTable =\n",
              "          await google.colab.kernel.invokeFunction('convertToInteractive',\n",
              "                                                    [key], {});\n",
              "        if (!dataTable) return;\n",
              "\n",
              "        const docLinkHtml = 'Like what you see? Visit the ' +\n",
              "          '<a target=\"_blank\" href=https://colab.research.google.com/notebooks/data_table.ipynb>data table notebook</a>'\n",
              "          + ' to learn more about interactive tables.';\n",
              "        element.innerHTML = '';\n",
              "        dataTable['output_type'] = 'display_data';\n",
              "        await google.colab.output.renderOutput(dataTable, element);\n",
              "        const docLink = document.createElement('div');\n",
              "        docLink.innerHTML = docLinkHtml;\n",
              "        element.appendChild(docLink);\n",
              "      }\n",
              "    </script>\n",
              "  </div>\n",
              "\n",
              "\n",
              "    <div id=\"df-6cf7095a-d2a0-47ae-93b6-46b7ab61640f\">\n",
              "      <button class=\"colab-df-quickchart\" onclick=\"quickchart('df-6cf7095a-d2a0-47ae-93b6-46b7ab61640f')\"\n",
              "                title=\"Suggest charts\"\n",
              "                style=\"display:none;\">\n",
              "\n",
              "<svg xmlns=\"http://www.w3.org/2000/svg\" height=\"24px\"viewBox=\"0 0 24 24\"\n",
              "     width=\"24px\">\n",
              "    <g>\n",
              "        <path d=\"M19 3H5c-1.1 0-2 .9-2 2v14c0 1.1.9 2 2 2h14c1.1 0 2-.9 2-2V5c0-1.1-.9-2-2-2zM9 17H7v-7h2v7zm4 0h-2V7h2v10zm4 0h-2v-4h2v4z\"/>\n",
              "    </g>\n",
              "</svg>\n",
              "      </button>\n",
              "\n",
              "<style>\n",
              "  .colab-df-quickchart {\n",
              "      --bg-color: #E8F0FE;\n",
              "      --fill-color: #1967D2;\n",
              "      --hover-bg-color: #E2EBFA;\n",
              "      --hover-fill-color: #174EA6;\n",
              "      --disabled-fill-color: #AAA;\n",
              "      --disabled-bg-color: #DDD;\n",
              "  }\n",
              "\n",
              "  [theme=dark] .colab-df-quickchart {\n",
              "      --bg-color: #3B4455;\n",
              "      --fill-color: #D2E3FC;\n",
              "      --hover-bg-color: #434B5C;\n",
              "      --hover-fill-color: #FFFFFF;\n",
              "      --disabled-bg-color: #3B4455;\n",
              "      --disabled-fill-color: #666;\n",
              "  }\n",
              "\n",
              "  .colab-df-quickchart {\n",
              "    background-color: var(--bg-color);\n",
              "    border: none;\n",
              "    border-radius: 50%;\n",
              "    cursor: pointer;\n",
              "    display: none;\n",
              "    fill: var(--fill-color);\n",
              "    height: 32px;\n",
              "    padding: 0;\n",
              "    width: 32px;\n",
              "  }\n",
              "\n",
              "  .colab-df-quickchart:hover {\n",
              "    background-color: var(--hover-bg-color);\n",
              "    box-shadow: 0 1px 2px rgba(60, 64, 67, 0.3), 0 1px 3px 1px rgba(60, 64, 67, 0.15);\n",
              "    fill: var(--button-hover-fill-color);\n",
              "  }\n",
              "\n",
              "  .colab-df-quickchart-complete:disabled,\n",
              "  .colab-df-quickchart-complete:disabled:hover {\n",
              "    background-color: var(--disabled-bg-color);\n",
              "    fill: var(--disabled-fill-color);\n",
              "    box-shadow: none;\n",
              "  }\n",
              "\n",
              "  .colab-df-spinner {\n",
              "    border: 2px solid var(--fill-color);\n",
              "    border-color: transparent;\n",
              "    border-bottom-color: var(--fill-color);\n",
              "    animation:\n",
              "      spin 1s steps(1) infinite;\n",
              "  }\n",
              "\n",
              "  @keyframes spin {\n",
              "    0% {\n",
              "      border-color: transparent;\n",
              "      border-bottom-color: var(--fill-color);\n",
              "      border-left-color: var(--fill-color);\n",
              "    }\n",
              "    20% {\n",
              "      border-color: transparent;\n",
              "      border-left-color: var(--fill-color);\n",
              "      border-top-color: var(--fill-color);\n",
              "    }\n",
              "    30% {\n",
              "      border-color: transparent;\n",
              "      border-left-color: var(--fill-color);\n",
              "      border-top-color: var(--fill-color);\n",
              "      border-right-color: var(--fill-color);\n",
              "    }\n",
              "    40% {\n",
              "      border-color: transparent;\n",
              "      border-right-color: var(--fill-color);\n",
              "      border-top-color: var(--fill-color);\n",
              "    }\n",
              "    60% {\n",
              "      border-color: transparent;\n",
              "      border-right-color: var(--fill-color);\n",
              "    }\n",
              "    80% {\n",
              "      border-color: transparent;\n",
              "      border-right-color: var(--fill-color);\n",
              "      border-bottom-color: var(--fill-color);\n",
              "    }\n",
              "    90% {\n",
              "      border-color: transparent;\n",
              "      border-bottom-color: var(--fill-color);\n",
              "    }\n",
              "  }\n",
              "</style>\n",
              "\n",
              "      <script>\n",
              "        async function quickchart(key) {\n",
              "          const quickchartButtonEl =\n",
              "            document.querySelector('#' + key + ' button');\n",
              "          quickchartButtonEl.disabled = true;  // To prevent multiple clicks.\n",
              "          quickchartButtonEl.classList.add('colab-df-spinner');\n",
              "          try {\n",
              "            const charts = await google.colab.kernel.invokeFunction(\n",
              "                'suggestCharts', [key], {});\n",
              "          } catch (error) {\n",
              "            console.error('Error during call to suggestCharts:', error);\n",
              "          }\n",
              "          quickchartButtonEl.classList.remove('colab-df-spinner');\n",
              "          quickchartButtonEl.classList.add('colab-df-quickchart-complete');\n",
              "        }\n",
              "        (() => {\n",
              "          let quickchartButtonEl =\n",
              "            document.querySelector('#df-6cf7095a-d2a0-47ae-93b6-46b7ab61640f button');\n",
              "          quickchartButtonEl.style.display =\n",
              "            google.colab.kernel.accessAllowed ? 'block' : 'none';\n",
              "        })();\n",
              "      </script>\n",
              "    </div>\n",
              "\n",
              "  <div id=\"id_c0cd7933-959b-45e9-b232-ff2ad07ae0d1\">\n",
              "    <style>\n",
              "      .colab-df-generate {\n",
              "        background-color: #E8F0FE;\n",
              "        border: none;\n",
              "        border-radius: 50%;\n",
              "        cursor: pointer;\n",
              "        display: none;\n",
              "        fill: #1967D2;\n",
              "        height: 32px;\n",
              "        padding: 0 0 0 0;\n",
              "        width: 32px;\n",
              "      }\n",
              "\n",
              "      .colab-df-generate:hover {\n",
              "        background-color: #E2EBFA;\n",
              "        box-shadow: 0px 1px 2px rgba(60, 64, 67, 0.3), 0px 1px 3px 1px rgba(60, 64, 67, 0.15);\n",
              "        fill: #174EA6;\n",
              "      }\n",
              "\n",
              "      [theme=dark] .colab-df-generate {\n",
              "        background-color: #3B4455;\n",
              "        fill: #D2E3FC;\n",
              "      }\n",
              "\n",
              "      [theme=dark] .colab-df-generate:hover {\n",
              "        background-color: #434B5C;\n",
              "        box-shadow: 0px 1px 3px 1px rgba(0, 0, 0, 0.15);\n",
              "        filter: drop-shadow(0px 1px 2px rgba(0, 0, 0, 0.3));\n",
              "        fill: #FFFFFF;\n",
              "      }\n",
              "    </style>\n",
              "    <button class=\"colab-df-generate\" onclick=\"generateWithVariable('pd')\"\n",
              "            title=\"Generate code using this dataframe.\"\n",
              "            style=\"display:none;\">\n",
              "\n",
              "  <svg xmlns=\"http://www.w3.org/2000/svg\" height=\"24px\"viewBox=\"0 0 24 24\"\n",
              "       width=\"24px\">\n",
              "    <path d=\"M7,19H8.4L18.45,9,17,7.55,7,17.6ZM5,21V16.75L18.45,3.32a2,2,0,0,1,2.83,0l1.4,1.43a1.91,1.91,0,0,1,.58,1.4,1.91,1.91,0,0,1-.58,1.4L9.25,21ZM18.45,9,17,7.55Zm-12,3A5.31,5.31,0,0,0,4.9,8.1,5.31,5.31,0,0,0,1,6.5,5.31,5.31,0,0,0,4.9,4.9,5.31,5.31,0,0,0,6.5,1,5.31,5.31,0,0,0,8.1,4.9,5.31,5.31,0,0,0,12,6.5,5.46,5.46,0,0,0,6.5,12Z\"/>\n",
              "  </svg>\n",
              "    </button>\n",
              "    <script>\n",
              "      (() => {\n",
              "      const buttonEl =\n",
              "        document.querySelector('#id_c0cd7933-959b-45e9-b232-ff2ad07ae0d1 button.colab-df-generate');\n",
              "      buttonEl.style.display =\n",
              "        google.colab.kernel.accessAllowed ? 'block' : 'none';\n",
              "\n",
              "      buttonEl.onclick = () => {\n",
              "        google.colab.notebook.generateWithVariable('pd');\n",
              "      }\n",
              "      })();\n",
              "    </script>\n",
              "  </div>\n",
              "\n",
              "    </div>\n",
              "  </div>\n"
            ],
            "application/vnd.google.colaboratory.intrinsic+json": {
              "type": "dataframe",
              "variable_name": "pd",
              "summary": "{\n  \"name\": \"pd\",\n  \"rows\": 14838,\n  \"fields\": [\n    {\n      \"column\": \"work_year\",\n      \"properties\": {\n        \"dtype\": \"number\",\n        \"std\": 0,\n        \"min\": 2020,\n        \"max\": 2024,\n        \"num_unique_values\": 5,\n        \"samples\": [\n          2020,\n          2024,\n          2022\n        ],\n        \"semantic_type\": \"\",\n        \"description\": \"\"\n      }\n    },\n    {\n      \"column\": \"experience_level\",\n      \"properties\": {\n        \"dtype\": \"category\",\n        \"num_unique_values\": 4,\n        \"samples\": [\n          \"SE\",\n          \"EX\",\n          \"MI\"\n        ],\n        \"semantic_type\": \"\",\n        \"description\": \"\"\n      }\n    },\n    {\n      \"column\": \"employment_type\",\n      \"properties\": {\n        \"dtype\": \"category\",\n        \"num_unique_values\": 4,\n        \"samples\": [\n          \"FL\",\n          \"PT\",\n          \"FT\"\n        ],\n        \"semantic_type\": \"\",\n        \"description\": \"\"\n      }\n    },\n    {\n      \"column\": \"job_title\",\n      \"properties\": {\n        \"dtype\": \"category\",\n        \"num_unique_values\": 153,\n        \"samples\": [\n          \"Data Management Specialist\",\n          \"Marketing Data Analyst\",\n          \"Robotics Engineer\"\n        ],\n        \"semantic_type\": \"\",\n        \"description\": \"\"\n      }\n    },\n    {\n      \"column\": \"salary\",\n      \"properties\": {\n        \"dtype\": \"number\",\n        \"std\": 356235,\n        \"min\": 14000,\n        \"max\": 30400000,\n        \"num_unique_values\": 2363,\n        \"samples\": [\n          149094,\n          111151,\n          112900\n        ],\n        \"semantic_type\": \"\",\n        \"description\": \"\"\n      }\n    },\n    {\n      \"column\": \"salary_currency\",\n      \"properties\": {\n        \"dtype\": \"category\",\n        \"num_unique_values\": 23,\n        \"samples\": [\n          \"EUR\",\n          \"MXN\",\n          \"CLP\"\n        ],\n        \"semantic_type\": \"\",\n        \"description\": \"\"\n      }\n    },\n    {\n      \"column\": \"salary_in_usd\",\n      \"properties\": {\n        \"dtype\": \"number\",\n        \"std\": 69009,\n        \"min\": 15000,\n        \"max\": 800000,\n        \"num_unique_values\": 2730,\n        \"samples\": [\n          165500,\n          16455,\n          87600\n        ],\n        \"semantic_type\": \"\",\n        \"description\": \"\"\n      }\n    },\n    {\n      \"column\": \"employee_residence\",\n      \"properties\": {\n        \"dtype\": \"category\",\n        \"num_unique_values\": 88,\n        \"samples\": [\n          \"LU\",\n          \"CL\",\n          \"NZ\"\n        ],\n        \"semantic_type\": \"\",\n        \"description\": \"\"\n      }\n    },\n    {\n      \"column\": \"remote_ratio\",\n      \"properties\": {\n        \"dtype\": \"number\",\n        \"std\": 46,\n        \"min\": 0,\n        \"max\": 100,\n        \"num_unique_values\": 3,\n        \"samples\": [\n          100,\n          50,\n          0\n        ],\n        \"semantic_type\": \"\",\n        \"description\": \"\"\n      }\n    },\n    {\n      \"column\": \"company_location\",\n      \"properties\": {\n        \"dtype\": \"category\",\n        \"num_unique_values\": 77,\n        \"samples\": [\n          \"IN\",\n          \"NL\",\n          \"AS\"\n        ],\n        \"semantic_type\": \"\",\n        \"description\": \"\"\n      }\n    },\n    {\n      \"column\": \"company_size\",\n      \"properties\": {\n        \"dtype\": \"category\",\n        \"num_unique_values\": 3,\n        \"samples\": [\n          \"L\",\n          \"S\",\n          \"M\"\n        ],\n        \"semantic_type\": \"\",\n        \"description\": \"\"\n      }\n    }\n  ]\n}"
            }
          },
          "metadata": {},
          "execution_count": 40
        }
      ]
    },
    {
      "cell_type": "code",
      "metadata": {
        "colab": {
          "base_uri": "https://localhost:8080/",
          "height": 347
        },
        "id": "7bff7f98",
        "outputId": "73101858-3eba-46a2-ab4f-e3277413e0c4"
      },
      "source": [
        "display(pd.head())"
      ],
      "execution_count": 65,
      "outputs": [
        {
          "output_type": "display_data",
          "data": {
            "text/plain": [
              "   work_year experience_level employment_type                       job_title  \\\n",
              "0       2021               mi              ft                  data scientist   \n",
              "1       2021               mi              ft                 bi data analyst   \n",
              "2       2020               mi              ft                  data scientist   \n",
              "3       2021               mi              ft                     ml engineer   \n",
              "4       2022               se              ft  lead machine learning engineer   \n",
              "\n",
              "     salary salary_currency  salary_in_usd employee_residence  remote_ratio  \\\n",
              "0  30400000             CLP          40038                 CL           100   \n",
              "1  11000000             HUF          36259                 HU            50   \n",
              "2  11000000             HUF          35735                 HU            50   \n",
              "3   8500000             JPY          77364                 JP            50   \n",
              "4   7500000             INR          95386                 IN            50   \n",
              "\n",
              "  company_location company_size  \n",
              "0               cl            l  \n",
              "1               us            l  \n",
              "2               hu            l  \n",
              "3               jp            s  \n",
              "4               in            l  "
            ],
            "text/html": [
              "\n",
              "  <div id=\"df-7d818535-9b3a-4e1f-9310-1c8b8d1b0142\" class=\"colab-df-container\">\n",
              "    <div>\n",
              "<style scoped>\n",
              "    .dataframe tbody tr th:only-of-type {\n",
              "        vertical-align: middle;\n",
              "    }\n",
              "\n",
              "    .dataframe tbody tr th {\n",
              "        vertical-align: top;\n",
              "    }\n",
              "\n",
              "    .dataframe thead th {\n",
              "        text-align: right;\n",
              "    }\n",
              "</style>\n",
              "<table border=\"1\" class=\"dataframe\">\n",
              "  <thead>\n",
              "    <tr style=\"text-align: right;\">\n",
              "      <th></th>\n",
              "      <th>work_year</th>\n",
              "      <th>experience_level</th>\n",
              "      <th>employment_type</th>\n",
              "      <th>job_title</th>\n",
              "      <th>salary</th>\n",
              "      <th>salary_currency</th>\n",
              "      <th>salary_in_usd</th>\n",
              "      <th>employee_residence</th>\n",
              "      <th>remote_ratio</th>\n",
              "      <th>company_location</th>\n",
              "      <th>company_size</th>\n",
              "    </tr>\n",
              "  </thead>\n",
              "  <tbody>\n",
              "    <tr>\n",
              "      <th>0</th>\n",
              "      <td>2021</td>\n",
              "      <td>mi</td>\n",
              "      <td>ft</td>\n",
              "      <td>data scientist</td>\n",
              "      <td>30400000</td>\n",
              "      <td>CLP</td>\n",
              "      <td>40038</td>\n",
              "      <td>CL</td>\n",
              "      <td>100</td>\n",
              "      <td>cl</td>\n",
              "      <td>l</td>\n",
              "    </tr>\n",
              "    <tr>\n",
              "      <th>1</th>\n",
              "      <td>2021</td>\n",
              "      <td>mi</td>\n",
              "      <td>ft</td>\n",
              "      <td>bi data analyst</td>\n",
              "      <td>11000000</td>\n",
              "      <td>HUF</td>\n",
              "      <td>36259</td>\n",
              "      <td>HU</td>\n",
              "      <td>50</td>\n",
              "      <td>us</td>\n",
              "      <td>l</td>\n",
              "    </tr>\n",
              "    <tr>\n",
              "      <th>2</th>\n",
              "      <td>2020</td>\n",
              "      <td>mi</td>\n",
              "      <td>ft</td>\n",
              "      <td>data scientist</td>\n",
              "      <td>11000000</td>\n",
              "      <td>HUF</td>\n",
              "      <td>35735</td>\n",
              "      <td>HU</td>\n",
              "      <td>50</td>\n",
              "      <td>hu</td>\n",
              "      <td>l</td>\n",
              "    </tr>\n",
              "    <tr>\n",
              "      <th>3</th>\n",
              "      <td>2021</td>\n",
              "      <td>mi</td>\n",
              "      <td>ft</td>\n",
              "      <td>ml engineer</td>\n",
              "      <td>8500000</td>\n",
              "      <td>JPY</td>\n",
              "      <td>77364</td>\n",
              "      <td>JP</td>\n",
              "      <td>50</td>\n",
              "      <td>jp</td>\n",
              "      <td>s</td>\n",
              "    </tr>\n",
              "    <tr>\n",
              "      <th>4</th>\n",
              "      <td>2022</td>\n",
              "      <td>se</td>\n",
              "      <td>ft</td>\n",
              "      <td>lead machine learning engineer</td>\n",
              "      <td>7500000</td>\n",
              "      <td>INR</td>\n",
              "      <td>95386</td>\n",
              "      <td>IN</td>\n",
              "      <td>50</td>\n",
              "      <td>in</td>\n",
              "      <td>l</td>\n",
              "    </tr>\n",
              "  </tbody>\n",
              "</table>\n",
              "</div>\n",
              "    <div class=\"colab-df-buttons\">\n",
              "\n",
              "  <div class=\"colab-df-container\">\n",
              "    <button class=\"colab-df-convert\" onclick=\"convertToInteractive('df-7d818535-9b3a-4e1f-9310-1c8b8d1b0142')\"\n",
              "            title=\"Convert this dataframe to an interactive table.\"\n",
              "            style=\"display:none;\">\n",
              "\n",
              "  <svg xmlns=\"http://www.w3.org/2000/svg\" height=\"24px\" viewBox=\"0 -960 960 960\">\n",
              "    <path d=\"M120-120v-720h720v720H120Zm60-500h600v-160H180v160Zm220 220h160v-160H400v160Zm0 220h160v-160H400v160ZM180-400h160v-160H180v160Zm440 0h160v-160H620v160ZM180-180h160v-160H180v160Zm440 0h160v-160H620v160Z\"/>\n",
              "  </svg>\n",
              "    </button>\n",
              "\n",
              "  <style>\n",
              "    .colab-df-container {\n",
              "      display:flex;\n",
              "      gap: 12px;\n",
              "    }\n",
              "\n",
              "    .colab-df-convert {\n",
              "      background-color: #E8F0FE;\n",
              "      border: none;\n",
              "      border-radius: 50%;\n",
              "      cursor: pointer;\n",
              "      display: none;\n",
              "      fill: #1967D2;\n",
              "      height: 32px;\n",
              "      padding: 0 0 0 0;\n",
              "      width: 32px;\n",
              "    }\n",
              "\n",
              "    .colab-df-convert:hover {\n",
              "      background-color: #E2EBFA;\n",
              "      box-shadow: 0px 1px 2px rgba(60, 64, 67, 0.3), 0px 1px 3px 1px rgba(60, 64, 67, 0.15);\n",
              "      fill: #174EA6;\n",
              "    }\n",
              "\n",
              "    .colab-df-buttons div {\n",
              "      margin-bottom: 4px;\n",
              "    }\n",
              "\n",
              "    [theme=dark] .colab-df-convert {\n",
              "      background-color: #3B4455;\n",
              "      fill: #D2E3FC;\n",
              "    }\n",
              "\n",
              "    [theme=dark] .colab-df-convert:hover {\n",
              "      background-color: #434B5C;\n",
              "      box-shadow: 0px 1px 3px 1px rgba(0, 0, 0, 0.15);\n",
              "      filter: drop-shadow(0px 1px 2px rgba(0, 0, 0, 0.3));\n",
              "      fill: #FFFFFF;\n",
              "    }\n",
              "  </style>\n",
              "\n",
              "    <script>\n",
              "      const buttonEl =\n",
              "        document.querySelector('#df-7d818535-9b3a-4e1f-9310-1c8b8d1b0142 button.colab-df-convert');\n",
              "      buttonEl.style.display =\n",
              "        google.colab.kernel.accessAllowed ? 'block' : 'none';\n",
              "\n",
              "      async function convertToInteractive(key) {\n",
              "        const element = document.querySelector('#df-7d818535-9b3a-4e1f-9310-1c8b8d1b0142');\n",
              "        const dataTable =\n",
              "          await google.colab.kernel.invokeFunction('convertToInteractive',\n",
              "                                                    [key], {});\n",
              "        if (!dataTable) return;\n",
              "\n",
              "        const docLinkHtml = 'Like what you see? Visit the ' +\n",
              "          '<a target=\"_blank\" href=https://colab.research.google.com/notebooks/data_table.ipynb>data table notebook</a>'\n",
              "          + ' to learn more about interactive tables.';\n",
              "        element.innerHTML = '';\n",
              "        dataTable['output_type'] = 'display_data';\n",
              "        await google.colab.output.renderOutput(dataTable, element);\n",
              "        const docLink = document.createElement('div');\n",
              "        docLink.innerHTML = docLinkHtml;\n",
              "        element.appendChild(docLink);\n",
              "      }\n",
              "    </script>\n",
              "  </div>\n",
              "\n",
              "\n",
              "    <div id=\"df-263cbfd5-c5f7-4fa1-b9c2-800f4f5a0a3a\">\n",
              "      <button class=\"colab-df-quickchart\" onclick=\"quickchart('df-263cbfd5-c5f7-4fa1-b9c2-800f4f5a0a3a')\"\n",
              "                title=\"Suggest charts\"\n",
              "                style=\"display:none;\">\n",
              "\n",
              "<svg xmlns=\"http://www.w3.org/2000/svg\" height=\"24px\"viewBox=\"0 0 24 24\"\n",
              "     width=\"24px\">\n",
              "    <g>\n",
              "        <path d=\"M19 3H5c-1.1 0-2 .9-2 2v14c0 1.1.9 2 2 2h14c1.1 0 2-.9 2-2V5c0-1.1-.9-2-2-2zM9 17H7v-7h2v7zm4 0h-2V7h2v10zm4 0h-2v-4h2v4z\"/>\n",
              "    </g>\n",
              "</svg>\n",
              "      </button>\n",
              "\n",
              "<style>\n",
              "  .colab-df-quickchart {\n",
              "      --bg-color: #E8F0FE;\n",
              "      --fill-color: #1967D2;\n",
              "      --hover-bg-color: #E2EBFA;\n",
              "      --hover-fill-color: #174EA6;\n",
              "      --disabled-fill-color: #AAA;\n",
              "      --disabled-bg-color: #DDD;\n",
              "  }\n",
              "\n",
              "  [theme=dark] .colab-df-quickchart {\n",
              "      --bg-color: #3B4455;\n",
              "      --fill-color: #D2E3FC;\n",
              "      --hover-bg-color: #434B5C;\n",
              "      --hover-fill-color: #FFFFFF;\n",
              "      --disabled-bg-color: #3B4455;\n",
              "      --disabled-fill-color: #666;\n",
              "  }\n",
              "\n",
              "  .colab-df-quickchart {\n",
              "    background-color: var(--bg-color);\n",
              "    border: none;\n",
              "    border-radius: 50%;\n",
              "    cursor: pointer;\n",
              "    display: none;\n",
              "    fill: var(--fill-color);\n",
              "    height: 32px;\n",
              "    padding: 0;\n",
              "    width: 32px;\n",
              "  }\n",
              "\n",
              "  .colab-df-quickchart:hover {\n",
              "    background-color: var(--hover-bg-color);\n",
              "    box-shadow: 0 1px 2px rgba(60, 64, 67, 0.3), 0 1px 3px 1px rgba(60, 64, 67, 0.15);\n",
              "    fill: var(--button-hover-fill-color);\n",
              "  }\n",
              "\n",
              "  .colab-df-quickchart-complete:disabled,\n",
              "  .colab-df-quickchart-complete:disabled:hover {\n",
              "    background-color: var(--disabled-bg-color);\n",
              "    fill: var(--disabled-fill-color);\n",
              "    box-shadow: none;\n",
              "  }\n",
              "\n",
              "  .colab-df-spinner {\n",
              "    border: 2px solid var(--fill-color);\n",
              "    border-color: transparent;\n",
              "    border-bottom-color: var(--fill-color);\n",
              "    animation:\n",
              "      spin 1s steps(1) infinite;\n",
              "  }\n",
              "\n",
              "  @keyframes spin {\n",
              "    0% {\n",
              "      border-color: transparent;\n",
              "      border-bottom-color: var(--fill-color);\n",
              "      border-left-color: var(--fill-color);\n",
              "    }\n",
              "    20% {\n",
              "      border-color: transparent;\n",
              "      border-left-color: var(--fill-color);\n",
              "      border-top-color: var(--fill-color);\n",
              "    }\n",
              "    30% {\n",
              "      border-color: transparent;\n",
              "      border-left-color: var(--fill-color);\n",
              "      border-top-color: var(--fill-color);\n",
              "      border-right-color: var(--fill-color);\n",
              "    }\n",
              "    40% {\n",
              "      border-color: transparent;\n",
              "      border-right-color: var(--fill-color);\n",
              "      border-top-color: var(--fill-color);\n",
              "    }\n",
              "    60% {\n",
              "      border-color: transparent;\n",
              "      border-right-color: var(--fill-color);\n",
              "    }\n",
              "    80% {\n",
              "      border-color: transparent;\n",
              "      border-right-color: var(--fill-color);\n",
              "      border-bottom-color: var(--fill-color);\n",
              "    }\n",
              "    90% {\n",
              "      border-color: transparent;\n",
              "      border-bottom-color: var(--fill-color);\n",
              "    }\n",
              "  }\n",
              "</style>\n",
              "\n",
              "      <script>\n",
              "        async function quickchart(key) {\n",
              "          const quickchartButtonEl =\n",
              "            document.querySelector('#' + key + ' button');\n",
              "          quickchartButtonEl.disabled = true;  // To prevent multiple clicks.\n",
              "          quickchartButtonEl.classList.add('colab-df-spinner');\n",
              "          try {\n",
              "            const charts = await google.colab.kernel.invokeFunction(\n",
              "                'suggestCharts', [key], {});\n",
              "          } catch (error) {\n",
              "            console.error('Error during call to suggestCharts:', error);\n",
              "          }\n",
              "          quickchartButtonEl.classList.remove('colab-df-spinner');\n",
              "          quickchartButtonEl.classList.add('colab-df-quickchart-complete');\n",
              "        }\n",
              "        (() => {\n",
              "          let quickchartButtonEl =\n",
              "            document.querySelector('#df-263cbfd5-c5f7-4fa1-b9c2-800f4f5a0a3a button');\n",
              "          quickchartButtonEl.style.display =\n",
              "            google.colab.kernel.accessAllowed ? 'block' : 'none';\n",
              "        })();\n",
              "      </script>\n",
              "    </div>\n",
              "\n",
              "    </div>\n",
              "  </div>\n"
            ],
            "application/vnd.google.colaboratory.intrinsic+json": {
              "type": "dataframe",
              "summary": "{\n  \"name\": \"display(pd\",\n  \"rows\": 5,\n  \"fields\": [\n    {\n      \"column\": \"work_year\",\n      \"properties\": {\n        \"dtype\": \"number\",\n        \"std\": 0,\n        \"min\": 2020,\n        \"max\": 2022,\n        \"num_unique_values\": 3,\n        \"samples\": [\n          2021,\n          2020,\n          2022\n        ],\n        \"semantic_type\": \"\",\n        \"description\": \"\"\n      }\n    },\n    {\n      \"column\": \"experience_level\",\n      \"properties\": {\n        \"dtype\": \"category\",\n        \"num_unique_values\": 2,\n        \"samples\": [\n          \"se\",\n          \"mi\"\n        ],\n        \"semantic_type\": \"\",\n        \"description\": \"\"\n      }\n    },\n    {\n      \"column\": \"employment_type\",\n      \"properties\": {\n        \"dtype\": \"category\",\n        \"num_unique_values\": 1,\n        \"samples\": [\n          \"ft\"\n        ],\n        \"semantic_type\": \"\",\n        \"description\": \"\"\n      }\n    },\n    {\n      \"column\": \"job_title\",\n      \"properties\": {\n        \"dtype\": \"string\",\n        \"num_unique_values\": 4,\n        \"samples\": [\n          \"bi data analyst\"\n        ],\n        \"semantic_type\": \"\",\n        \"description\": \"\"\n      }\n    },\n    {\n      \"column\": \"salary\",\n      \"properties\": {\n        \"dtype\": \"number\",\n        \"std\": 9472961,\n        \"min\": 7500000,\n        \"max\": 30400000,\n        \"num_unique_values\": 4,\n        \"samples\": [\n          11000000\n        ],\n        \"semantic_type\": \"\",\n        \"description\": \"\"\n      }\n    },\n    {\n      \"column\": \"salary_currency\",\n      \"properties\": {\n        \"dtype\": \"string\",\n        \"num_unique_values\": 4,\n        \"samples\": [\n          \"HUF\"\n        ],\n        \"semantic_type\": \"\",\n        \"description\": \"\"\n      }\n    },\n    {\n      \"column\": \"salary_in_usd\",\n      \"properties\": {\n        \"dtype\": \"number\",\n        \"std\": 27650,\n        \"min\": 35735,\n        \"max\": 95386,\n        \"num_unique_values\": 5,\n        \"samples\": [\n          36259\n        ],\n        \"semantic_type\": \"\",\n        \"description\": \"\"\n      }\n    },\n    {\n      \"column\": \"employee_residence\",\n      \"properties\": {\n        \"dtype\": \"string\",\n        \"num_unique_values\": 4,\n        \"samples\": [\n          \"HU\"\n        ],\n        \"semantic_type\": \"\",\n        \"description\": \"\"\n      }\n    },\n    {\n      \"column\": \"remote_ratio\",\n      \"properties\": {\n        \"dtype\": \"number\",\n        \"std\": 22,\n        \"min\": 50,\n        \"max\": 100,\n        \"num_unique_values\": 2,\n        \"samples\": [\n          50\n        ],\n        \"semantic_type\": \"\",\n        \"description\": \"\"\n      }\n    },\n    {\n      \"column\": \"company_location\",\n      \"properties\": {\n        \"dtype\": \"string\",\n        \"num_unique_values\": 5,\n        \"samples\": [\n          \"us\"\n        ],\n        \"semantic_type\": \"\",\n        \"description\": \"\"\n      }\n    },\n    {\n      \"column\": \"company_size\",\n      \"properties\": {\n        \"dtype\": \"category\",\n        \"num_unique_values\": 2,\n        \"samples\": [\n          \"s\"\n        ],\n        \"semantic_type\": \"\",\n        \"description\": \"\"\n      }\n    }\n  ]\n}"
            }
          },
          "metadata": {}
        }
      ]
    },
    {
      "cell_type": "code",
      "source": [
        "display(pd.info())\n",
        "display(pd.isnull().sum())"
      ],
      "metadata": {
        "colab": {
          "base_uri": "https://localhost:8080/",
          "height": 772
        },
        "id": "rK5XLWTgZOLs",
        "outputId": "31142284-d11f-49ed-89f7-8de433b86dff"
      },
      "execution_count": 64,
      "outputs": [
        {
          "output_type": "stream",
          "name": "stdout",
          "text": [
            "<class 'pandas.core.frame.DataFrame'>\n",
            "Index: 9127 entries, 0 to 14837\n",
            "Data columns (total 11 columns):\n",
            " #   Column              Non-Null Count  Dtype \n",
            "---  ------              --------------  ----- \n",
            " 0   work_year           9127 non-null   int64 \n",
            " 1   experience_level    9127 non-null   object\n",
            " 2   employment_type     9127 non-null   object\n",
            " 3   job_title           9127 non-null   object\n",
            " 4   salary              9127 non-null   int64 \n",
            " 5   salary_currency     9127 non-null   object\n",
            " 6   salary_in_usd       9127 non-null   int64 \n",
            " 7   employee_residence  9127 non-null   object\n",
            " 8   remote_ratio        9127 non-null   int64 \n",
            " 9   company_location    9127 non-null   object\n",
            " 10  company_size        9127 non-null   object\n",
            "dtypes: int64(4), object(7)\n",
            "memory usage: 855.7+ KB\n"
          ]
        },
        {
          "output_type": "display_data",
          "data": {
            "text/plain": [
              "None"
            ]
          },
          "metadata": {}
        },
        {
          "output_type": "display_data",
          "data": {
            "text/plain": [
              "work_year             0\n",
              "experience_level      0\n",
              "employment_type       0\n",
              "job_title             0\n",
              "salary                0\n",
              "salary_currency       0\n",
              "salary_in_usd         0\n",
              "employee_residence    0\n",
              "remote_ratio          0\n",
              "company_location      0\n",
              "company_size          0\n",
              "dtype: int64"
            ],
            "text/html": [
              "<div>\n",
              "<style scoped>\n",
              "    .dataframe tbody tr th:only-of-type {\n",
              "        vertical-align: middle;\n",
              "    }\n",
              "\n",
              "    .dataframe tbody tr th {\n",
              "        vertical-align: top;\n",
              "    }\n",
              "\n",
              "    .dataframe thead th {\n",
              "        text-align: right;\n",
              "    }\n",
              "</style>\n",
              "<table border=\"1\" class=\"dataframe\">\n",
              "  <thead>\n",
              "    <tr style=\"text-align: right;\">\n",
              "      <th></th>\n",
              "      <th>0</th>\n",
              "    </tr>\n",
              "  </thead>\n",
              "  <tbody>\n",
              "    <tr>\n",
              "      <th>work_year</th>\n",
              "      <td>0</td>\n",
              "    </tr>\n",
              "    <tr>\n",
              "      <th>experience_level</th>\n",
              "      <td>0</td>\n",
              "    </tr>\n",
              "    <tr>\n",
              "      <th>employment_type</th>\n",
              "      <td>0</td>\n",
              "    </tr>\n",
              "    <tr>\n",
              "      <th>job_title</th>\n",
              "      <td>0</td>\n",
              "    </tr>\n",
              "    <tr>\n",
              "      <th>salary</th>\n",
              "      <td>0</td>\n",
              "    </tr>\n",
              "    <tr>\n",
              "      <th>salary_currency</th>\n",
              "      <td>0</td>\n",
              "    </tr>\n",
              "    <tr>\n",
              "      <th>salary_in_usd</th>\n",
              "      <td>0</td>\n",
              "    </tr>\n",
              "    <tr>\n",
              "      <th>employee_residence</th>\n",
              "      <td>0</td>\n",
              "    </tr>\n",
              "    <tr>\n",
              "      <th>remote_ratio</th>\n",
              "      <td>0</td>\n",
              "    </tr>\n",
              "    <tr>\n",
              "      <th>company_location</th>\n",
              "      <td>0</td>\n",
              "    </tr>\n",
              "    <tr>\n",
              "      <th>company_size</th>\n",
              "      <td>0</td>\n",
              "    </tr>\n",
              "  </tbody>\n",
              "</table>\n",
              "</div><br><label><b>dtype:</b> int64</label>"
            ]
          },
          "metadata": {}
        }
      ]
    },
    {
      "cell_type": "code",
      "metadata": {
        "colab": {
          "base_uri": "https://localhost:8080/"
        },
        "id": "5811603f",
        "outputId": "b3f6ed4d-13ec-4b2f-c428-e5e7ee36f511"
      },
      "source": [
        "num_rows_before = pd.shape[0]\n",
        "print(f\"Number of rows before removing duplicates: {num_rows_before}\")\n",
        "\n",
        "duplicate_rows_count = pd.duplicated().sum()\n",
        "print(f\"Number of duplicate rows: {duplicate_rows_count}\")\n",
        "\n",
        "if duplicate_rows_count > 0:\n",
        "    pd = pd.drop_duplicates()\n",
        "    num_rows_after = pd.shape[0]\n",
        "    print(f\"Number of rows after removing duplicates: {num_rows_after}\")\n",
        "else:\n",
        "    print(\"No duplicate rows found.\")"
      ],
      "execution_count": 42,
      "outputs": [
        {
          "output_type": "stream",
          "name": "stdout",
          "text": [
            "Number of rows before removing duplicates: 14838\n",
            "Number of duplicate rows: 5711\n",
            "Number of rows after removing duplicates: 9127\n"
          ]
        }
      ]
    },
    {
      "cell_type": "code",
      "metadata": {
        "colab": {
          "base_uri": "https://localhost:8080/",
          "height": 1000
        },
        "id": "d725f4ad",
        "outputId": "028fbde1-d147-4cab-8adb-4d25553d07b0"
      },
      "source": [
        "#Standardize data formats\n",
        "categorical_cols = ['job_title', 'experience_level', 'employment_type', 'company_location', 'company_size']\n",
        "\n",
        "for col in categorical_cols:\n",
        "    if pd[col].dtype == 'object':\n",
        "        pd[col] = pd[col].str.lower()\n",
        "        print(f\"Unique values in '{col}' after standardization:\")\n",
        "        display(pd[col].unique())\n",
        "    else:\n",
        "        print(f\"Column '{col}' is not of object type, skipping standardization.\")\n"
      ],
      "execution_count": 43,
      "outputs": [
        {
          "output_type": "stream",
          "name": "stdout",
          "text": [
            "Unique values in 'job_title' after standardization:\n"
          ]
        },
        {
          "output_type": "stream",
          "name": "stderr",
          "text": [
            "/tmp/ipython-input-43-16795443.py:5: SettingWithCopyWarning: \n",
            "A value is trying to be set on a copy of a slice from a DataFrame.\n",
            "Try using .loc[row_indexer,col_indexer] = value instead\n",
            "\n",
            "See the caveats in the documentation: https://pandas.pydata.org/pandas-docs/stable/user_guide/indexing.html#returning-a-view-versus-a-copy\n",
            "  pd[col] = pd[col].str.lower()\n"
          ]
        },
        {
          "output_type": "display_data",
          "data": {
            "text/plain": [
              "array(['data scientist', 'bi data analyst', 'ml engineer',\n",
              "       'lead machine learning engineer', 'data science manager',\n",
              "       'head of machine learning', 'research engineer',\n",
              "       'head of data science', 'ai programmer',\n",
              "       'machine learning engineer', 'lead data scientist',\n",
              "       'data engineer', 'applied machine learning scientist',\n",
              "       'lead data analyst', 'data analytics manager',\n",
              "       'data integration specialist', 'principal data architect',\n",
              "       'nlp engineer', 'big data engineer', 'ai research engineer',\n",
              "       'machine learning software engineer', 'data analyst',\n",
              "       'applied data scientist', 'ai scientist', 'data analytics lead',\n",
              "       'business data analyst', 'product data analyst',\n",
              "       'computer vision engineer', 'data science consultant',\n",
              "       'ai architect', 'analytics engineer', 'machine learning scientist',\n",
              "       'research scientist', 'prompt engineer',\n",
              "       'principal data scientist', 'applied scientist',\n",
              "       'deep learning engineer', 'data architect', 'ai engineer',\n",
              "       'data infrastructure engineer', 'data science',\n",
              "       'director of data science', 'data science tech lead', 'bi analyst',\n",
              "       'data lead', 'head of data', 'analytics engineering manager',\n",
              "       'data product owner', 'business intelligence',\n",
              "       'machine learning infrastructure engineer', 'research analyst',\n",
              "       'managing director data science', 'finance data analyst',\n",
              "       'data operations engineer', 'robotics software engineer',\n",
              "       'mlops engineer', 'lead data engineer', 'ai developer',\n",
              "       'data science lead', 'data science engineer',\n",
              "       'business intelligence manager',\n",
              "       'business intelligence specialist',\n",
              "       'business intelligence engineer', 'data modeler',\n",
              "       'aws data architect', 'machine learning researcher',\n",
              "       'data product manager', 'data strategy manager', 'etl developer',\n",
              "       'cloud data architect', 'computational biologist',\n",
              "       'ai software engineer', 'data strategist', 'data manager',\n",
              "       'business intelligence analyst',\n",
              "       'applied machine learning engineer', 'data specialist',\n",
              "       'ai product manager', 'data science director',\n",
              "       'software data engineer', 'data operations specialist',\n",
              "       'bi developer', 'machine learning modeler', 'decision scientist',\n",
              "       'data management specialist', 'data analyst lead',\n",
              "       'marketing data analyst', 'machine learning manager',\n",
              "       'principal data engineer', 'data science practitioner',\n",
              "       'ml ops engineer', 'principal machine learning engineer',\n",
              "       'data quality engineer', 'cloud database engineer',\n",
              "       'staff machine learning engineer', 'data visualization specialist',\n",
              "       'data scientist lead', 'robotics engineer',\n",
              "       'data integration developer', 'data developer',\n",
              "       'machine learning developer', 'staff data analyst',\n",
              "       'business intelligence developer', 'business intelligence lead',\n",
              "       'data pipeline engineer', 'data quality analyst',\n",
              "       'data visualization engineer', 'principal data analyst',\n",
              "       'staff data scientist', 'data integration engineer',\n",
              "       'machine learning operations engineer', 'consultant data engineer',\n",
              "       'cloud data engineer', 'data analytics specialist',\n",
              "       'data operations analyst', 'data science analyst',\n",
              "       'ai research scientist', 'etl engineer',\n",
              "       'computer vision software engineer', 'data management analyst',\n",
              "       'data operations manager', 'data analytics engineer',\n",
              "       'data visualization analyst', 'financial data analyst',\n",
              "       'manager data management', 'big data architect',\n",
              "       'data analytics consultant', 'autonomous vehicle technician',\n",
              "       'big data developer', 'deep learning researcher',\n",
              "       'machine learning research engineer', 'data management consultant',\n",
              "       'azure data engineer', 'business intelligence data analyst',\n",
              "       'data analytics associate', 'data reporting analyst',\n",
              "       'marketing data scientist', 'data modeller',\n",
              "       'marketing data engineer', 'data devops engineer',\n",
              "       'data operations associate', 'machine learning specialist',\n",
              "       'encounter data management professional',\n",
              "       'applied research scientist', 'admin & data analyst',\n",
              "       'power bi developer', 'compliance data analyst',\n",
              "       'sales data analyst', 'bi data engineer', 'data quality manager',\n",
              "       'quantitative research analyst', 'insight analyst',\n",
              "       'crm data analyst'], dtype=object)"
            ]
          },
          "metadata": {}
        },
        {
          "output_type": "stream",
          "name": "stdout",
          "text": [
            "Unique values in 'experience_level' after standardization:\n"
          ]
        },
        {
          "output_type": "display_data",
          "data": {
            "text/plain": [
              "array(['mi', 'se', 'en', 'ex'], dtype=object)"
            ]
          },
          "metadata": {}
        },
        {
          "output_type": "stream",
          "name": "stdout",
          "text": [
            "Unique values in 'employment_type' after standardization:\n"
          ]
        },
        {
          "output_type": "display_data",
          "data": {
            "text/plain": [
              "array(['ft', 'fl', 'ct', 'pt'], dtype=object)"
            ]
          },
          "metadata": {}
        },
        {
          "output_type": "stream",
          "name": "stdout",
          "text": [
            "Unique values in 'company_location' after standardization:\n"
          ]
        },
        {
          "output_type": "display_data",
          "data": {
            "text/plain": [
              "array(['cl', 'us', 'hu', 'jp', 'in', 'id', 'de', 'ch', 'il', 'sg', 'as',\n",
              "       'no', 'th', 'ph', 'ca', 'mx', 'za', 'hk', 'tr', 'gb', 'qa', 'au',\n",
              "       'dk', 'es', 'fr', 'eg', 'ua', 'ru', 'pl', 'nz', 'ng', 'pr', 'br',\n",
              "       'sa', 'ie', 'nl', 'co', 'se', 'ba', 'ae', 'lt', 'pt', 'mu', 'cz',\n",
              "       'fi', 'ir', 'dz', 'iq', 'cn', 'ar', 'hr', 'si', 'lb', 'at', 'vn',\n",
              "       'ke', 'gr', 'be', 'mt', 'lv', 'it', 'gi', 'ro', 'ee', 'lu', 'kr',\n",
              "       'am', 'ad', 'om', 'bs', 'cf', 'pk', 'my', 'gh', 'hn', 'md', 'ec'],\n",
              "      dtype=object)"
            ]
          },
          "metadata": {}
        },
        {
          "output_type": "stream",
          "name": "stdout",
          "text": [
            "Unique values in 'company_size' after standardization:\n"
          ]
        },
        {
          "output_type": "display_data",
          "data": {
            "text/plain": [
              "array(['l', 's', 'm'], dtype=object)"
            ]
          },
          "metadata": {}
        }
      ]
    },
    {
      "cell_type": "code",
      "metadata": {
        "colab": {
          "base_uri": "https://localhost:8080/",
          "height": 89
        },
        "id": "5f14b160",
        "outputId": "4769ad46-8a06-493a-a7ef-006e81fed91e"
      },
      "source": [
        "#Clean column names\n",
        "pd.columns = pd.columns.str.lower().str.replace(' ', '_')\n",
        "display(pd.columns)"
      ],
      "execution_count": 44,
      "outputs": [
        {
          "output_type": "display_data",
          "data": {
            "text/plain": [
              "Index(['work_year', 'experience_level', 'employment_type', 'job_title',\n",
              "       'salary', 'salary_currency', 'salary_in_usd', 'employee_residence',\n",
              "       'remote_ratio', 'company_location', 'company_size'],\n",
              "      dtype='object')"
            ]
          },
          "metadata": {}
        }
      ]
    },
    {
      "cell_type": "code",
      "metadata": {
        "id": "5fbb38fb"
      },
      "source": [
        "#Prepare Data for Model Training\n",
        "from sklearn.model_selection import train_test_split\n",
        "from sklearn.preprocessing import StandardScaler, OneHotEncoder\n",
        "from sklearn.compose import ColumnTransformer\n",
        "from sklearn.pipeline import Pipeline\n",
        "X = pd.drop('salary_in_usd', axis=1)\n",
        "y = pd['salary_in_usd']"
      ],
      "execution_count": 45,
      "outputs": []
    },
    {
      "cell_type": "code",
      "source": [
        "# Split data into training and testing sets\n",
        "X_train, X_test, y_train, y_test = train_test_split(X, y, test_size=0.2, random_state=42)"
      ],
      "metadata": {
        "id": "LTIzaQ3RLK0W"
      },
      "execution_count": 46,
      "outputs": []
    },
    {
      "cell_type": "code",
      "source": [
        "# Identify categorical and numerical columns\n",
        "categorical_features = X.select_dtypes(include=['object']).columns\n",
        "numerical_features = X.select_dtypes(include=['int64', 'float64']).columns"
      ],
      "metadata": {
        "id": "KYnURtA4LNRl"
      },
      "execution_count": 47,
      "outputs": []
    },
    {
      "cell_type": "code",
      "source": [
        "# Create preprocessing pipelines for numerical and categorical features\n",
        "numerical_transformer = StandardScaler()\n",
        "categorical_transformer = OneHotEncoder(handle_unknown='ignore')"
      ],
      "metadata": {
        "id": "-OkMPQTuLWhC"
      },
      "execution_count": 48,
      "outputs": []
    },
    {
      "cell_type": "code",
      "source": [
        "# Create a column transformer to apply different transformations to different columns\n",
        "preprocessor = ColumnTransformer(\n",
        "    transformers=[\n",
        "        ('num', numerical_transformer, numerical_features),\n",
        "        ('cat', categorical_transformer, categorical_features)\n",
        "    ])"
      ],
      "metadata": {
        "id": "foql9RtlLaVP"
      },
      "execution_count": 49,
      "outputs": []
    },
    {
      "cell_type": "code",
      "source": [
        "# Create a preprocessing pipeline\n",
        "preprocessing_pipeline = Pipeline(steps=[('preprocessor', preprocessor)])"
      ],
      "metadata": {
        "id": "HOcxosRCLf1Y"
      },
      "execution_count": 50,
      "outputs": []
    },
    {
      "cell_type": "code",
      "source": [
        "# Fit and transform the training data\n",
        "X_train_processed = preprocessing_pipeline.fit_transform(X_train)"
      ],
      "metadata": {
        "id": "bWDntsJzLjp7"
      },
      "execution_count": 51,
      "outputs": []
    },
    {
      "cell_type": "code",
      "source": [
        "# Transform the testing data\n",
        "X_test_processed = preprocessing_pipeline.transform(X_test)\n",
        "\n",
        "print(\"Data preprocessing complete.\")\n",
        "print(\"Shape of processed training data:\", X_train_processed.shape)\n",
        "print(\"Shape of processed testing data:\", X_test_processed.shape)"
      ],
      "metadata": {
        "colab": {
          "base_uri": "https://localhost:8080/"
        },
        "id": "Obla03-7Lnld",
        "outputId": "3f66140d-fffb-4e58-8cf3-d2ce896b2779"
      },
      "execution_count": 52,
      "outputs": [
        {
          "output_type": "stream",
          "name": "stdout",
          "text": [
            "Data preprocessing complete.\n",
            "Shape of processed training data: (7301, 335)\n",
            "Shape of processed testing data: (1826, 335)\n"
          ]
        }
      ]
    },
    {
      "cell_type": "code",
      "source": [
        "from sklearn.linear_model import LinearRegression\n",
        "from sklearn.metrics import mean_squared_error, r2_score\n",
        "import numpy as np # Import numpy\n",
        "\n",
        "# Initialize and train the Linear Regression model\n",
        "model = LinearRegression()\n",
        "model.fit(X_train_processed, y_train)\n",
        "\n",
        "# Make predictions on the testing data\n",
        "y_pred = model.predict(X_test_processed)\n",
        "\n",
        "# Evaluate the model\n",
        "mse = mean_squared_error(y_test, y_pred)\n",
        "rmse = np.sqrt(mse)  # Calculate RMSE by taking the square root of MSE\n",
        "r2 = r2_score(y_test, y_pred)\n",
        "\n",
        "print(f\"Mean Squared Error (MSE): {mse}\")\n",
        "print(f\"Root Mean Squared Error (RMSE): {rmse}\")\n",
        "print(f\"R-squared (R2) Score: {r2}\")"
      ],
      "metadata": {
        "colab": {
          "base_uri": "https://localhost:8080/"
        },
        "id": "5SOVmhsdOA5h",
        "outputId": "3b3825a0-c993-4305-b903-ed074b35e60e"
      },
      "execution_count": 53,
      "outputs": [
        {
          "output_type": "stream",
          "name": "stdout",
          "text": [
            "Mean Squared Error (MSE): 27222546515.21129\n",
            "Root Mean Squared Error (RMSE): 164992.5650300985\n",
            "R-squared (R2) Score: -3.5187570669376456\n"
          ]
        }
      ]
    },
    {
      "cell_type": "code",
      "source": [],
      "metadata": {
        "id": "Yo-3pDUkO4mU"
      },
      "execution_count": 53,
      "outputs": []
    },
    {
      "cell_type": "markdown",
      "metadata": {
        "id": "47be71d5"
      },
      "source": [
        "## Train and Evaluate a Random Forest Regressor"
      ]
    },
    {
      "cell_type": "code",
      "metadata": {
        "colab": {
          "base_uri": "https://localhost:8080/"
        },
        "id": "e6f0144b",
        "outputId": "a04825fa-bee6-4e0e-f34c-304ae45f0eea"
      },
      "source": [
        "from sklearn.ensemble import RandomForestRegressor\n",
        "\n",
        "# Initialize and train the Random Forest Regressor model\n",
        "rf_model = RandomForestRegressor(n_estimators=100, random_state=42) # You can adjust n_estimators\n",
        "rf_model.fit(X_train_processed, y_train)\n",
        "\n",
        "# Make predictions on the testing data\n",
        "y_pred_rf = rf_model.predict(X_test_processed)\n",
        "\n",
        "# Evaluate the model\n",
        "mse_rf = mean_squared_error(y_test, y_pred_rf)\n",
        "rmse_rf = np.sqrt(mse_rf)\n",
        "r2_rf = r2_score(y_test, y_pred_rf)\n",
        "\n",
        "print(f\"Random Forest Regressor Mean Squared Error (MSE): {mse_rf}\")\n",
        "print(f\"Random Forest Regressor Root Mean Squared Error (RMSE): {rmse_rf}\")\n",
        "print(f\"Random Forest Regressor R-squared (R2) Score: {r2_rf}\")"
      ],
      "execution_count": 54,
      "outputs": [
        {
          "output_type": "stream",
          "name": "stdout",
          "text": [
            "Random Forest Regressor Mean Squared Error (MSE): 63119179.41707969\n",
            "Random Forest Regressor Root Mean Squared Error (RMSE): 7944.7579835435945\n",
            "Random Forest Regressor R-squared (R2) Score: 0.9895226466821956\n"
          ]
        }
      ]
    },
    {
      "cell_type": "code",
      "source": [
        "# Data Visualization\n",
        "import matplotlib.pyplot as plt\n",
        "import seaborn as sns\n",
        "\n",
        "# Set plot style\n",
        "sns.set_style('whitegrid')"
      ],
      "metadata": {
        "id": "nZpZUUL4QLvl"
      },
      "execution_count": 58,
      "outputs": []
    },
    {
      "cell_type": "code",
      "source": [
        "#Distribution of 'salary_in_usd'\n",
        "plt.figure(figsize=(10, 6))\n",
        "sns.histplot(pd['salary_in_usd'], kde=True)\n",
        "plt.title('Distribution of Salary in USD')\n",
        "plt.xlabel('Salary in USD')\n",
        "plt.ylabel('Frequency')\n",
        "plt.show()"
      ],
      "metadata": {
        "colab": {
          "base_uri": "https://localhost:8080/",
          "height": 564
        },
        "id": "J848Omw8WV-O",
        "outputId": "707f4113-2c49-4cf5-b742-b284dfaeccae"
      },
      "execution_count": 59,
      "outputs": [
        {
          "output_type": "display_data",
          "data": {
            "text/plain": [
              "<Figure size 1000x600 with 1 Axes>"
            ],
            "image/png": "[encoded data removed]"
          },
          "metadata": {}
        }
      ]
    },
    {
      "cell_type": "code",
      "source": [
        "#Relationship between 'experience_level' and 'salary_in_usd'\n",
        "plt.figure(figsize=(10, 6))\n",
        "sns.boxplot(x='experience_level', y='salary_in_usd', data=pd)\n",
        "plt.title('Salary in USD by Experience Level')\n",
        "plt.xlabel('Experience Level')\n",
        "plt.ylabel('Salary in USD')\n",
        "plt.show()"
      ],
      "metadata": {
        "colab": {
          "base_uri": "https://localhost:8080/",
          "height": 564
        },
        "id": "kAnupnsHWV28",
        "outputId": "7b7b0023-ff31-4353-82b7-594f30805769"
      },
      "execution_count": 60,
      "outputs": [
        {
          "output_type": "display_data",
          "data": {
            "text/plain": [
              "<Figure size 1000x600 with 1 Axes>"
            ],
            "image/png": "[encoded data removed]"
          },
          "metadata": {}
        }
      ]
    },
    {
      "cell_type": "code",
      "source": [
        "#Relationship between 'job_title' and 'salary_in_usd' (Top 10 job titles)\n",
        "# Get top 10 job titles by median salary for better readability\n",
        "top_10_job_titles = pd.groupby('job_title')['salary_in_usd'].median().sort_values(ascending=False).head(10).index\n",
        "df_top_jobs = pd[pd['job_title'].isin(top_10_job_titles)]\n",
        "\n",
        "plt.figure(figsize=(12, 8))\n",
        "sns.boxplot(x='job_title', y='salary_in_usd', data=df_top_jobs)\n",
        "plt.title('Salary in USD by Top 10 Job Titles (Median Salary)')\n",
        "plt.xlabel('Job Title')\n",
        "plt.ylabel('Salary in USD')\n",
        "plt.xticks(rotation=45, ha='right')\n",
        "plt.tight_layout()\n",
        "plt.show()"
      ],
      "metadata": {
        "colab": {
          "base_uri": "https://localhost:8080/",
          "height": 807
        },
        "id": "y30IwcUnWVq-",
        "outputId": "3ff23005-a19b-4b55-9d9f-83d282a56a8a"
      },
      "execution_count": 61,
      "outputs": [
        {
          "output_type": "display_data",
          "data": {
            "text/plain": [
              "<Figure size 1200x800 with 1 Axes>"
            ],
            "image/png": "[encoded data removed]"
          },
          "metadata": {}
        }
      ]
    },
    {
      "cell_type": "code",
      "source": [
        "#Salary trends over 'work_year'\n",
        "plt.figure(figsize=(10, 6))\n",
        "sns.lineplot(x='work_year', y='salary_in_usd', data=pd, estimator='mean')\n",
        "plt.title('Average Salary in USD Over Time')\n",
        "plt.xlabel('Work Year')\n",
        "plt.ylabel('Average Salary in USD')\n",
        "plt.show()"
      ],
      "metadata": {
        "colab": {
          "base_uri": "https://localhost:8080/",
          "height": 564
        },
        "id": "4-lS3PJMWU4b",
        "outputId": "7ba5fcb4-a089-43ca-8738-097c3f81ce85"
      },
      "execution_count": 62,
      "outputs": [
        {
          "output_type": "display_data",
          "data": {
            "text/plain": [
              "<Figure size 1000x600 with 1 Axes>"
            ],
            "image/png": "[encoded data removed]"
          },
          "metadata": {}
        }
      ]
    },
    {
      "cell_type": "code",
      "source": [],
      "metadata": {
        "id": "hjcadSK1WUcX"
      },
      "execution_count": null,
      "outputs": []
    },
    {
      "cell_type": "code",
      "source": [
        "from sklearn.tree import DecisionTreeRegressor\n",
        "from sklearn.metrics import mean_squared_error, r2_score\n",
        "import numpy as np\n",
        "dt_model = DecisionTreeRegressor(random_state=42)\n",
        "dt_model.fit(X_train_processed, y_train)\n",
        "y_pred_dt = dt_model.predict(X_test_processed)\n",
        "r2_dt = r2_score(y_test, y_pred_dt)\n",
        "\n",
        "print(f\"Decision Tree Regressor R-squared (as a percentage): {r2_dt * 100:.2f}%\")"
      ],
      "metadata": {
        "colab": {
          "base_uri": "https://localhost:8080/"
        },
        "id": "3u_tQpLFQrmX",
        "outputId": "c82bacf0-d62f-4381-9829-df521a6e2a6c"
      },
      "execution_count": 63,
      "outputs": [
        {
          "output_type": "stream",
          "name": "stdout",
          "text": [
            "Decision Tree Regressor R-squared (as a percentage): 97.63%\n"
          ]
        }
      ]
    },
    {
      "cell_type": "code",
      "metadata": {
        "colab": {
          "base_uri": "https://localhost:8080/"
        },
        "id": "bc5ab6cd",
        "outputId": "8a88bcba-fee2-41f4-d16b-0989d09c029a"
      },
      "source": [
        "#Save the Trained Model and Preprocessor\n",
        "import joblib\n",
        "\n",
        "# Save the trained Random Forest model\n",
        "joblib.dump(rf_model, 'random_forest_regressor_model.pkl')\n",
        "\n",
        "# Save the preprocessing pipeline\n",
        "joblib.dump(preprocessing_pipeline, 'preprocessing_pipeline.pkl')\n",
        "\n",
        "print(\"Random Forest Regressor model and preprocessing pipeline saved.\")"
      ],
      "execution_count": 57,
      "outputs": [
        {
          "output_type": "stream",
          "name": "stdout",
          "text": [
            "Random Forest Regressor model and preprocessing pipeline saved.\n"
          ]
        }
      ]
    }
  ]
}